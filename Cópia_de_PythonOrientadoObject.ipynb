{
  "nbformat": 4,
  "nbformat_minor": 0,
  "metadata": {
    "colab": {
      "provenance": [],
      "authorship_tag": "ABX9TyPo6ut2efvWuwV/IH2E4KFE",
      "include_colab_link": true
    },
    "kernelspec": {
      "name": "python3",
      "display_name": "Python 3"
    },
    "language_info": {
      "name": "python"
    }
  },
  "cells": [
    {
      "cell_type": "markdown",
      "metadata": {
        "id": "view-in-github",
        "colab_type": "text"
      },
      "source": [
        "<a href=\"https://colab.research.google.com/github/jaymeson-jpg/ORANGE_CANVAS/blob/master/C%C3%B3pia_de_PythonOrientadoObject.ipynb\" target=\"_parent\"><img src=\"https://colab.research.google.com/assets/colab-badge.svg\" alt=\"Open In Colab\"/></a>"
      ]
    },
    {
      "cell_type": "markdown",
      "source": [
        "## Como criar Classes e Objetos - Curso Python Orientado a Objetos"
      ],
      "metadata": {
        "id": "5TXL1dM2VMnW"
      }
    },
    {
      "cell_type": "code",
      "source": [
        "pais1_nome = 'Brasil'\n",
        "pais1_capital = 'Brasilia'\n",
        "pais1_populacao = 212.6\n",
        "\n",
        "print(type(pais1_nome))\n",
        "print(type(pais1_capital))\n",
        "print(type(pais1_populacao))"
      ],
      "metadata": {
        "colab": {
          "base_uri": "https://localhost:8080/"
        },
        "id": "H-pvZedoVQid",
        "outputId": "c665ab4d-1ed6-4610-9461-8a4c60230fcf"
      },
      "execution_count": null,
      "outputs": [
        {
          "output_type": "stream",
          "name": "stdout",
          "text": [
            "<class 'str'>\n",
            "<class 'str'>\n",
            "<class 'float'>\n"
          ]
        }
      ]
    },
    {
      "cell_type": "code",
      "source": [
        "class Pais:\n",
        "    def  __init__(self, nome, capital, populacao):\n",
        "         self.nome = nome\n",
        "         self.capital = capital\n",
        "         self.populacao = populacao\n",
        "         self.abreviacao = capital[:2]\n",
        "          \n",
        "         print(self.abreviacao)\n",
        "         print(\"Entrei no construtor\")\n",
        "\n",
        "\n",
        "pais1 = Pais('Brasil', 'Brasilia', 212.6)\n",
        "\n",
        "print(pais1.nome)\n",
        "print(pais1.capital)\n",
        "print(pais1.populacao)\n",
        "\n",
        "#print(type(pais1.nome))\n",
        "#print(type(pais1.capital))\n",
        "#print(type(pais1.populacao))"
      ],
      "metadata": {
        "colab": {
          "base_uri": "https://localhost:8080/"
        },
        "id": "UA_yMhCSWPUX",
        "outputId": "df1a0b8d-c997-43ea-d4bd-1de8a41a477d"
      },
      "execution_count": null,
      "outputs": [
        {
          "output_type": "stream",
          "name": "stdout",
          "text": [
            "Br\n",
            "Entrei no construtor\n",
            "Brasil\n",
            "Brasilia\n",
            "212.6\n"
          ]
        }
      ]
    },
    {
      "cell_type": "code",
      "source": [
        "class Pais:\n",
        "    def  __init__(self, nome, capital, populacao):\n",
        "         self.nome = nome\n",
        "         self.capital = capital\n",
        "         self.populacao = populacao\n",
        "         self.abreviacao = capital[:2]\n",
        "          \n",
        "         print(self.abreviacao)\n",
        "         print(\"Entrei no construtor\")\n",
        "\n",
        "\n",
        "pais1 = Pais('Brasil', 'Brasilia', 212.6)\n",
        "\n",
        "print(pais1.nome)\n",
        "print(pais1.capital)\n",
        "print(pais1.populacao)\n",
        "\n",
        "pais2 = Pais('Canada', 'Ottawa', 30)\n",
        "print(pais2.nome)\n",
        "\n",
        "#print(type(pais1.nome))\n",
        "#print(type(pais1.capital))\n",
        "#print(type(pais1.populacao))"
      ],
      "metadata": {
        "colab": {
          "base_uri": "https://localhost:8080/"
        },
        "id": "EcvXQRmiCs5O",
        "outputId": "4d2f1ee1-6587-4138-d739-631d0827b752"
      },
      "execution_count": null,
      "outputs": [
        {
          "output_type": "stream",
          "name": "stdout",
          "text": [
            "Br\n",
            "Entrei no construtor\n",
            "Brasil\n",
            "Brasilia\n",
            "212.6\n",
            "Ot\n",
            "Entrei no construtor\n",
            "Canada\n"
          ]
        }
      ]
    },
    {
      "cell_type": "code",
      "source": [
        "\"\"\"\n",
        "  Exercício da aula Como criar Classes e Objetos\n",
        "  Crie uma classe chamada Automovel, com um construtor que receba:\n",
        "\n",
        "  marca\n",
        "  placa\n",
        "  quantidade de portas\n",
        "  quantidade pneus\n",
        "  Crie três objetos diferentes para essa classe\n",
        "\"\"\"\n",
        "\n",
        "\"\"\" Solução: \"\"\"\n",
        "\n",
        "class Automovel:\n",
        "    def __init__(self, marca, placa, qntdd_portas, qtdd_pneus):\n",
        "        \"\"\"Método construtor que recebe as informações solicitadas\n",
        "        Lembre-se:\n",
        "            O método __init__ é chamado quando invocamos NomeDaClasse()\n",
        "            O self é necessário para atribuir as informações do objeto.\n",
        "        \"\"\"\n",
        "        self.marca = marca\n",
        "        self.placa = placa\n",
        "        self.qntdd_portas = qntdd_portas\n",
        "        self.qtdd_pneus = qtdd_pneus\n",
        "\n",
        "if __name__ == \"__main__\":\n",
        "    # Criando objetos da classe Automovel\n",
        "    auto1 = Automovel(\"Honda\", \"ABC1234\", 2, 4)\n",
        "    auto2 = Automovel(\"Ford\", \"ABD1235\", 4, 4)\n",
        "    auto3 = Automovel(\"Ford\", \"ABF1236\", 4, 4)"
      ],
      "metadata": {
        "id": "OA83Ow4--pAo"
      },
      "execution_count": null,
      "outputs": []
    }
  ]
}
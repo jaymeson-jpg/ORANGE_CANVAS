{
  "nbformat": 4,
  "nbformat_minor": 0,
  "metadata": {
    "colab": {
      "name": "DesafioDevPro.ipynb",
      "provenance": [],
      "authorship_tag": "ABX9TyMXkVScAZLB76sCrtHYLpS+",
      "include_colab_link": true
    },
    "kernelspec": {
      "name": "python3",
      "display_name": "Python 3"
    },
    "language_info": {
      "name": "python"
    }
  },
  "cells": [
    {
      "cell_type": "markdown",
      "metadata": {
        "id": "view-in-github",
        "colab_type": "text"
      },
      "source": [
        "<a href=\"https://colab.research.google.com/github/jaymeson-jpg/ORANGE_CANVAS/blob/master/DesafioDevPro.ipynb\" target=\"_parent\"><img src=\"https://colab.research.google.com/assets/colab-badge.svg\" alt=\"Open In Colab\"/></a>"
      ]
    },
    {
      "cell_type": "markdown",
      "source": [
        "# Desafio DevPro"
      ],
      "metadata": {
        "id": "ZjNYWNzbDZaU"
      }
    },
    {
      "cell_type": "markdown",
      "source": [
        "# Nesse notebook vamos resolver varios exercicios da [lista da Python Brasil](https://wiki.python.org.br/ListaDeExercicios)"
      ],
      "metadata": {
        "id": "M9-yDjSIGOF7"
      }
    },
    {
      "cell_type": "markdown",
      "source": [
        "# [Estrutura Sequencial](https://wiki.python.org.br/EstruturaSequencial)"
      ],
      "metadata": {
        "id": "_F5BQvoUHLFA"
      }
    },
    {
      "cell_type": "markdown",
      "source": [
        "Exercicio 1"
      ],
      "metadata": {
        "id": "IWpu-4HeIBHk"
      }
    },
    {
      "cell_type": "code",
      "source": [
        "print('Olá Mundo')"
      ],
      "metadata": {
        "colab": {
          "base_uri": "https://localhost:8080/"
        },
        "id": "bIOc2GotIEsm",
        "outputId": "6106797d-4415-41c8-801d-f8cd56fdc8cb"
      },
      "execution_count": 1,
      "outputs": [
        {
          "output_type": "stream",
          "name": "stdout",
          "text": [
            "Olá Mundo\n"
          ]
        }
      ]
    },
    {
      "cell_type": "code",
      "source": [
        "type('Olá Mundo')"
      ],
      "metadata": {
        "colab": {
          "base_uri": "https://localhost:8080/"
        },
        "id": "MIAghiA-Is7O",
        "outputId": "ad12bf14-a41a-4802-d39d-8a9e97473264"
      },
      "execution_count": 2,
      "outputs": [
        {
          "output_type": "execute_result",
          "data": {
            "text/plain": [
              "str"
            ]
          },
          "metadata": {},
          "execution_count": 2
        }
      ]
    },
    {
      "cell_type": "markdown",
      "source": [
        "# Exercicio 2"
      ],
      "metadata": {
        "id": "xnvAsJL6I1-4"
      }
    },
    {
      "cell_type": "code",
      "source": [
        "numero = input('Digite um número: ')\n",
        "print(f'O número informado foi {numero}')\n"
      ],
      "metadata": {
        "colab": {
          "base_uri": "https://localhost:8080/"
        },
        "id": "ymY0YQEuI-oA",
        "outputId": "5e4c939d-d2d8-42d3-e898-fbf78d4d3022"
      },
      "execution_count": 6,
      "outputs": [
        {
          "output_type": "stream",
          "name": "stdout",
          "text": [
            "Digite um número: 59\n",
            "O número informado foi 59\n"
          ]
        }
      ]
    },
    {
      "cell_type": "markdown",
      "source": [
        "# Exercicio 3 "
      ],
      "metadata": {
        "id": "INx2xL4XK2di"
      }
    },
    {
      "cell_type": "code",
      "source": [
        "numero_1 = int(input('Digite um número: '))\n",
        "numero_2 = int(input('Digite outro número: '))\n",
        "soma = numero_1 + numero_2\n",
        "print(f'A soma dos dois números é {soma}')\n",
        "type(numero_1)"
      ],
      "metadata": {
        "colab": {
          "base_uri": "https://localhost:8080/"
        },
        "id": "EB46X87gJrXU",
        "outputId": "8eff752a-94bc-4d17-b6ac-a60a42b5c380"
      },
      "execution_count": 8,
      "outputs": [
        {
          "output_type": "stream",
          "name": "stdout",
          "text": [
            "Digite um número: 12\n",
            "Digite outro número: 5\n",
            "A soma dos dois números é 17\n"
          ]
        },
        {
          "output_type": "execute_result",
          "data": {
            "text/plain": [
              "int"
            ]
          },
          "metadata": {},
          "execution_count": 8
        }
      ]
    },
    {
      "cell_type": "markdown",
      "source": [
        "# Liçao\n",
        "\n"
      ],
      "metadata": {
        "id": "MkVVoXIdMQ84"
      }
    }
  ]
}